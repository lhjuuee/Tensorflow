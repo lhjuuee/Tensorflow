{
 "cells": [
  {
   "cell_type": "markdown",
   "metadata": {},
   "source": [
    "# Regularization\n",
    "## 3. Max-norm regularization\n",
    "\n",
    "Another method to regularize model is **max-norm regularization**. This method restricts **L2 norm of w**,\n",
    "\n",
    "which is in each neuron, to be less than r, which is hyper parameter.\n",
    "\n",
    "After finishing each train step, calculate L2 norm of w and clip w as w = w*r/(l2 norm of w).\n",
    "\n",
    "** And it helps reduce vanishing and exploding gradient problem when we don't use batch normalization.**\n",
    "\n",
    "##### Add_\n",
    "\n",
    "Its appealing points is that it can not only improve performance of model but completely \n",
    "\n",
    "avoid exploding gradient, due to its restriction.\n",
    "\n",
    "##### In TensorFlow\n",
    "Code below shows how to realize max-norm regularization.\n",
    "\n",
    "Calculating weights in first hidden layer and by using clip_by_norm() function, realize clipping weights."
   ]
  },
  {
   "cell_type": "code",
   "execution_count": 1,
   "metadata": {},
   "outputs": [],
   "source": [
    "import tensorflow as tf\n",
    "\n",
    "def max_norm_regularizer(threshold, axes=1, name=\"max_norm\", collection=\"max_norm\"):\n",
    "    \n",
    "    def max_norm(weights):\n",
    "        clipped = tf.clip_by_norm(weights, clip_norm=threshold, axes=axes)\n",
    "        clip_weights = tf.assign(weights, clipped, name=name)\n",
    "        tf.add_to_collection(collection, clip_weights)\n",
    "        return None\n",
    "    return max_norm"
   ]
  },
  {
   "cell_type": "code",
   "execution_count": 2,
   "metadata": {},
   "outputs": [
    {
     "data": {
      "text/plain": [
       "'\\nwith tf.name_scope(\"dnn\"):\\n    hidden1 = tf.layers.dense(X, n_hidden1, activation=tf.nn.relu,\\n                              kernel_regularizer=max_norm_reg, name=\"hidden1\")\\n    \\n    hidden2 = tf.layers.dense(hidden1, n_hidden2, activation=tf.nn.relu,\\n                              kernel_regularizer=max_norm_reg, name=\"hidden2\")\\n    \\n    logits = tf.layers.dense(hidden2, n_outputs, name=\"outputs\")\\n'"
      ]
     },
     "execution_count": 2,
     "metadata": {},
     "output_type": "execute_result"
    }
   ],
   "source": [
    "max_norm_Reg = max_norm_regularizer(threshold = 1.0)\n",
    "'''\n",
    "with tf.name_scope(\"dnn\"):\n",
    "    hidden1 = tf.layers.dense(X, n_hidden1, activation=tf.nn.relu,\n",
    "                              kernel_regularizer=max_norm_reg, name=\"hidden1\")\n",
    "    \n",
    "    hidden2 = tf.layers.dense(hidden1, n_hidden2, activation=tf.nn.relu,\n",
    "                              kernel_regularizer=max_norm_reg, name=\"hidden2\")\n",
    "    \n",
    "    logits = tf.layers.dense(hidden2, n_outputs, name=\"outputs\")\n",
    "'''"
   ]
  },
  {
   "cell_type": "markdown",
   "metadata": {},
   "source": [
    "Max-norm method doesn't have to add regularization on loss function. That is why we get None in max_norm(). \n",
    "\n",
    "But we need to get a control to calculate clip_weights after every step.\n",
    "\n",
    "And this is why we add clip_weights in max_norm() function on 'max_norm' collection.\n",
    "\n",
    "Finally,"
   ]
  },
  {
   "cell_type": "code",
   "execution_count": 3,
   "metadata": {},
   "outputs": [
    {
     "data": {
      "text/plain": [
       "'\\nclip_all_weights = tf.get_collection(\"max_norm\")\\n\\nwith tf.Session() as sess:\\n    init.run()\\n    for epoch in range(n_epochs):\\n        for iteration in range(mnist.train.num_examples // batch_size):\\n            X_batch, Y_batch = mnist.train.next_batch(batch_size)\\n            sess.run(training_op, feed_dict={X: X_batch, Y: Y_batch})\\n            sess.run(clip_all_weights)\\n'"
      ]
     },
     "execution_count": 3,
     "metadata": {},
     "output_type": "execute_result"
    }
   ],
   "source": [
    "'''\n",
    "clip_all_weights = tf.get_collection(\"max_norm\")\n",
    "\n",
    "with tf.Session() as sess:\n",
    "    init.run()\n",
    "    for epoch in range(n_epochs):\n",
    "        for iteration in range(mnist.train.num_examples // batch_size):\n",
    "            X_batch, Y_batch = mnist.train.next_batch(batch_size)\n",
    "            sess.run(training_op, feed_dict={X: X_batch, Y: Y_batch})\n",
    "            sess.run(clip_all_weights)\n",
    "'''"
   ]
  }
 ],
 "metadata": {
  "kernelspec": {
   "display_name": "Python 3",
   "language": "python",
   "name": "python3"
  },
  "language_info": {
   "codemirror_mode": {
    "name": "ipython",
    "version": 3
   },
   "file_extension": ".py",
   "mimetype": "text/x-python",
   "name": "python",
   "nbconvert_exporter": "python",
   "pygments_lexer": "ipython3",
   "version": "3.6.7"
  }
 },
 "nbformat": 4,
 "nbformat_minor": 2
}
