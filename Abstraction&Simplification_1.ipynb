{
 "cells": [
  {
   "cell_type": "markdown",
   "metadata": {},
   "source": [
    "##### Abstraction to make task easier and intuitive\n",
    "\n",
    "## 1. Before abstraction"
   ]
  },
  {
   "cell_type": "code",
   "execution_count": 1,
   "metadata": {},
   "outputs": [],
   "source": [
    "import tensorflow as tf"
   ]
  },
  {
   "cell_type": "code",
   "execution_count": 4,
   "metadata": {},
   "outputs": [],
   "source": [
    "def weight_variable(shape):\n",
    "    initial = tf.truncated_normal(shape, stddev=0.1)\n",
    "    return tf.Variable(initial)\n",
    "\n",
    "def bias_variable(shape):\n",
    "    initial = tf.constant(0.1, shape=shape)\n",
    "    return tf.Variable(initial)\n",
    "\n",
    "def conv2d(x, W):\n",
    "    return tf.nn.conv2d(x, W, strides=[1, 1, 1, 1], padding='SAME')\n",
    "\n",
    "def max_pool_2x2(x):\n",
    "    return tf.nn.max_pool(x, ksize=[1, 2, 2, 1],\n",
    "                          strides=[1, 2, 2, 1], padding='SAME')\n",
    "\n",
    "def conv_layer(input, shape):\n",
    "    W = weight_variable(shape)\n",
    "    b = bias_variable([shape[3]])\n",
    "    h = tf.nn.relu(conv2d(input, W) + b)\n",
    "    hp = max_pool_2x2(h)\n",
    "    return hp\n",
    "\n",
    "x = tf.placeholder(tf.float32, shape=[None, 784])\n",
    "x_image = tf.reshape(x, [-1, 28, 28, 1])\n",
    "\n",
    "h1 = conv_layer(x_image, shape=[5, 5, 1, 32])\n",
    "h2 = conv_layer(h1, shape=[5, 5, 32, 64])\n",
    "h3 = conv_layer(h2, shape=[5, 5, 64, 32])"
   ]
  },
  {
   "cell_type": "markdown",
   "metadata": {},
   "source": [
    "##### Error prone"
   ]
  },
  {
   "cell_type": "markdown",
   "metadata": {},
   "source": [
    "## 2. With abstraction library \n",
    "\n",
    "#### e.g. ( tf.contrib.learn, TFLearn, contrib.slim, Keras)\n",
    "\n",
    "'contrib.learn', 'contrib.slim' and ' contrib.keras. It is not needed to install and It means 'contributed' to tf"
   ]
  },
  {
   "cell_type": "markdown",
   "metadata": {},
   "source": [
    "### 2.1 contrib.learn\n",
    "\n",
    "Using like, DNNClassifier(), learn, fit, evaluate and predict are available."
   ]
  },
  {
   "cell_type": "code",
   "execution_count": 10,
   "metadata": {},
   "outputs": [],
   "source": [
    "from tensorflow.contrib import learn\n",
    "\n",
    "import sys\n",
    "import numpy as np\n",
    "from tensorflow.examples.tutorials.mnist import input_data"
   ]
  },
  {
   "cell_type": "markdown",
   "metadata": {},
   "source": [
    "#### Data load"
   ]
  },
  {
   "cell_type": "code",
   "execution_count": 11,
   "metadata": {},
   "outputs": [
    {
     "name": "stdout",
     "output_type": "stream",
     "text": [
      "Extracting C:\\tmp\\data\\train-images-idx3-ubyte.gz\n",
      "Extracting C:\\tmp\\data\\train-labels-idx1-ubyte.gz\n",
      "Extracting C:\\tmp\\data\\t10k-images-idx3-ubyte.gz\n",
      "Extracting C:\\tmp\\data\\t10k-labels-idx1-ubyte.gz\n"
     ]
    }
   ],
   "source": [
    "DATA_DIR = 'C:/tmp/data' if not 'win32' in sys.platform else \"C:\\\\tmp\\\\data\"\n",
    "data = input_data.read_data_sets(DATA_DIR, one_hot=False)\n",
    "x_data, y_data = data.train.images, data.train.labels.astype(np.int32)\n",
    "x_test, y_test = data.test.images, data.test.labels.astype(np.int32)"
   ]
  },
  {
   "cell_type": "markdown",
   "metadata": {},
   "source": [
    "#### Model"
   ]
  },
  {
   "cell_type": "code",
   "execution_count": 12,
   "metadata": {},
   "outputs": [
    {
     "name": "stdout",
     "output_type": "stream",
     "text": [
      "INFO:tensorflow:Using default config.\n",
      "WARNING:tensorflow:Using temporary folder as model directory: C:\\R\\Temp\\tmpwpr8mvvh\n",
      "INFO:tensorflow:Using config: {'_task_type': None, '_task_id': 0, '_cluster_spec': <tensorflow.python.training.server_lib.ClusterSpec object at 0x000002DF20CBDB38>, '_master': '', '_num_ps_replicas': 0, '_num_worker_replicas': 0, '_environment': 'local', '_is_chief': True, '_evaluation_master': '', '_train_distribute': None, '_eval_distribute': None, '_device_fn': None, '_tf_config': gpu_options {\n",
      "  per_process_gpu_memory_fraction: 1\n",
      "}\n",
      ", '_tf_random_seed': None, '_save_summary_steps': 100, '_save_checkpoints_secs': 600, '_log_step_count_steps': 100, '_protocol': None, '_session_config': None, '_save_checkpoints_steps': None, '_keep_checkpoint_max': 5, '_keep_checkpoint_every_n_hours': 10000, '_model_dir': 'C:\\\\R\\\\Temp\\\\tmpwpr8mvvh'}\n",
      "INFO:tensorflow:Create CheckpointSaverHook.\n",
      "INFO:tensorflow:Graph was finalized.\n",
      "INFO:tensorflow:Running local_init_op.\n",
      "INFO:tensorflow:Done running local_init_op.\n",
      "INFO:tensorflow:Saving checkpoints for 0 into C:\\R\\Temp\\tmpwpr8mvvh\\model.ckpt.\n",
      "INFO:tensorflow:loss = 2.3305707, step = 1\n",
      "INFO:tensorflow:global_step/sec: 186.369\n",
      "INFO:tensorflow:loss = 0.17656294, step = 101 (0.541 sec)\n",
      "INFO:tensorflow:global_step/sec: 183.978\n",
      "INFO:tensorflow:loss = 0.199101, step = 201 (0.543 sec)\n",
      "INFO:tensorflow:global_step/sec: 187.416\n",
      "INFO:tensorflow:loss = 0.10153467, step = 301 (0.535 sec)\n",
      "INFO:tensorflow:global_step/sec: 182.304\n",
      "INFO:tensorflow:loss = 0.17166862, step = 401 (0.550 sec)\n",
      "INFO:tensorflow:global_step/sec: 163.568\n",
      "INFO:tensorflow:loss = 0.20873949, step = 501 (0.610 sec)\n",
      "INFO:tensorflow:global_step/sec: 163.568\n",
      "INFO:tensorflow:loss = 0.09383219, step = 601 (0.611 sec)\n",
      "INFO:tensorflow:global_step/sec: 163.036\n",
      "INFO:tensorflow:loss = 0.0567538, step = 701 (0.614 sec)\n",
      "INFO:tensorflow:global_step/sec: 165.185\n",
      "INFO:tensorflow:loss = 0.2035996, step = 801 (0.605 sec)\n",
      "INFO:tensorflow:global_step/sec: 161.202\n",
      "INFO:tensorflow:loss = 0.07832527, step = 901 (0.623 sec)\n",
      "INFO:tensorflow:global_step/sec: 161.461\n",
      "INFO:tensorflow:loss = 0.18301013, step = 1001 (0.616 sec)\n",
      "INFO:tensorflow:global_step/sec: 136.604\n",
      "INFO:tensorflow:loss = 0.11382279, step = 1101 (0.732 sec)\n",
      "INFO:tensorflow:global_step/sec: 149.207\n",
      "INFO:tensorflow:loss = 0.029635545, step = 1201 (0.671 sec)\n",
      "INFO:tensorflow:global_step/sec: 151.005\n",
      "INFO:tensorflow:loss = 0.084489375, step = 1301 (0.662 sec)\n",
      "INFO:tensorflow:global_step/sec: 141.222\n",
      "INFO:tensorflow:loss = 0.020901944, step = 1401 (0.707 sec)\n",
      "INFO:tensorflow:global_step/sec: 138.491\n",
      "INFO:tensorflow:loss = 0.027495746, step = 1501 (0.722 sec)\n",
      "INFO:tensorflow:global_step/sec: 134.768\n",
      "INFO:tensorflow:loss = 0.07608008, step = 1601 (0.745 sec)\n",
      "INFO:tensorflow:global_step/sec: 155.567\n",
      "INFO:tensorflow:loss = 0.089706644, step = 1701 (0.638 sec)\n",
      "INFO:tensorflow:global_step/sec: 145.526\n",
      "INFO:tensorflow:loss = 0.03712496, step = 1801 (0.691 sec)\n",
      "INFO:tensorflow:global_step/sec: 143.855\n",
      "INFO:tensorflow:loss = 0.03863486, step = 1901 (0.696 sec)\n",
      "INFO:tensorflow:Saving checkpoints for 2000 into C:\\R\\Temp\\tmpwpr8mvvh\\model.ckpt.\n",
      "INFO:tensorflow:Loss for final step: 0.030772418.\n",
      "INFO:tensorflow:Starting evaluation at 2019-03-25-06:34:23\n",
      "INFO:tensorflow:Graph was finalized.\n",
      "INFO:tensorflow:Restoring parameters from C:\\R\\Temp\\tmpwpr8mvvh\\model.ckpt-2000\n",
      "INFO:tensorflow:Running local_init_op.\n",
      "INFO:tensorflow:Done running local_init_op.\n",
      "INFO:tensorflow:Evaluation [1/1]\n",
      "INFO:tensorflow:Finished evaluation at 2019-03-25-06:34:24\n",
      "INFO:tensorflow:Saving dict for global step 2000: accuracy = 0.9765, global_step = 2000, loss = 0.07812139\n",
      "test accuracy: 0.9764999747276306\n"
     ]
    }
   ],
   "source": [
    "EPOCH_NUM = 2000\n",
    "MINIBATCH_SIZE = 128\n",
    "\n",
    "feature_columns = learn.infer_real_valued_columns_from_input(x_data)\n",
    "\n",
    "dnn = learn.DNNClassifier(feature_columns=feature_columns,\n",
    "                          hidden_units=[200],\n",
    "                          n_classes=10,\n",
    "                          optimizer=tf.train.ProximalAdagradOptimizer(learning_rate=0.2))\n",
    "\n",
    "dnn.fit(x=x_data, y=y_data, steps=EPOCH_NUM, batch_size=MINIBATCH_SIZE)\n",
    "\n",
    "test_acc = dnn.evaluate(x=x_test, y=y_test, steps=1)[\"accuracy\"]\n",
    "print('test accuracy: {}'.format(test_acc))"
   ]
  },
  {
   "cell_type": "markdown",
   "metadata": {},
   "source": [
    "### ** Tip. Useful function, FeatureColumn\n",
    "\n",
    "layers.sparse_column_with_keys()\n",
    "\n",
    "layers.sparse_column_with_hash_bucket()\n",
    "\n",
    "layers.crossed_column()\n",
    "\n",
    "layers.bucketized_column()"
   ]
  }
 ],
 "metadata": {
  "kernelspec": {
   "display_name": "Python 3",
   "language": "python",
   "name": "python3"
  },
  "language_info": {
   "codemirror_mode": {
    "name": "ipython",
    "version": 3
   },
   "file_extension": ".py",
   "mimetype": "text/x-python",
   "name": "python",
   "nbconvert_exporter": "python",
   "pygments_lexer": "ipython3",
   "version": "3.6.7"
  }
 },
 "nbformat": 4,
 "nbformat_minor": 2
}
