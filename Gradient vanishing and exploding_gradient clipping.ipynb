{
 "cells": [
  {
   "cell_type": "markdown",
   "metadata": {},
   "source": [
    "# Gradient vanishing and exploding\n",
    "## 4. Gradient clipping\n",
    "### 4.1 Problem\n",
    "\n",
    "Same problem as I mentioned in previous notes. Vanishing and exploding gradient.\n",
    "\n",
    "### 4.2 Solution\n",
    "\n",
    "Gradient Clippin is one of methods to solve gradient exploding setting threshold value and limitating by threshold value.\n",
    "\n",
    "Normallly,though, batch normalization is prefered but knowing how it works and how to realize are meaningful.\n",
    "\n",
    "### 4.3 In TensorFlow\n",
    "\n",
    "In tensorflow, minize() function proceed calculation and application in backpropagation. \n",
    "\n",
    "If you want to use gradient clipping, need to call compute_gradients() method first, \n",
    "\n",
    "then produce calculation by clip_by_value(). Finally, apply with apply_gradients() method.\n",
    "\n",
    "In other words, there are three steps."
   ]
  },
  {
   "cell_type": "code",
   "execution_count": 1,
   "metadata": {},
   "outputs": [
    {
     "data": {
      "text/plain": [
       "\"'\\nimport tensorflow as tf\\n\\nthreshold = 1.0\\noptimizer = tf.train.GradientDescentOptimizer(learning_rate)\\ngrads_and_vars = optimizer.compute_gradients(loss)\\ncapped_gvs = [(tf.clip_by_value(grad, -threshold, threshold), var)\\n              for grad, var in grads_and_vars]\\ntraining_op = optimizer.apply_gradients(capped_gvs)\\n\""
      ]
     },
     "execution_count": 1,
     "metadata": {},
     "output_type": "execute_result"
    }
   ],
   "source": [
    "''''\n",
    "import tensorflow as tf\n",
    "\n",
    "threshold = 1.0\n",
    "optimizer = tf.train.GradientDescentOptimizer(learning_rate)\n",
    "grads_and_vars = optimizer.compute_gradients(loss)\n",
    "capped_gvs = [(tf.clip_by_value(grad, -threshold, threshold), var)\n",
    "              for grad, var in grads_and_vars]\n",
    "training_op = optimizer.apply_gradients(capped_gvs)\n",
    "'''"
   ]
  }
 ],
 "metadata": {
  "kernelspec": {
   "display_name": "Python 3",
   "language": "python",
   "name": "python3"
  },
  "language_info": {
   "codemirror_mode": {
    "name": "ipython",
    "version": 3
   },
   "file_extension": ".py",
   "mimetype": "text/x-python",
   "name": "python",
   "nbconvert_exporter": "python",
   "pygments_lexer": "ipython3",
   "version": "3.6.4"
  }
 },
 "nbformat": 4,
 "nbformat_minor": 2
}
